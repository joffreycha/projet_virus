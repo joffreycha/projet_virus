{
 "cells": [
  {
   "cell_type": "code",
   "execution_count": 3,
   "metadata": {},
   "outputs": [],
   "source": [
    "from pymongo import MongoClient"
   ]
  },
  {
   "cell_type": "code",
   "execution_count": 4,
   "metadata": {},
   "outputs": [],
   "source": [
    "client = MongoClient(\"mongodb://mongodb:27017/\")"
   ]
  },
  {
   "cell_type": "code",
   "execution_count": 5,
   "metadata": {},
   "outputs": [],
   "source": [
    "from pyspark.sql import SparkSession\n",
    "spark = SparkSession.builder.appName(\"myApp\") \\\n",
    ".config('spark.jars.packages', 'org.mongodb.spark:mongo-spark-connector_2.11:2.3.2') \\\n",
    ".getOrCreate()"
   ]
  },
  {
   "cell_type": "code",
   "execution_count": 6,
   "metadata": {},
   "outputs": [],
   "source": [
    "sars = spark.read.format(\"com.mongodb.spark.sql.DefaultSource\").option(\"uri\",\n",
    "\"mongodb://mongodb:27017/epidemics.sars\").load()"
   ]
  },
  {
   "cell_type": "code",
   "execution_count": 7,
   "metadata": {},
   "outputs": [],
   "source": [
    "sars.createOrReplaceTempView(\"sars\")"
   ]
  },
  {
   "cell_type": "code",
   "execution_count": 78,
   "metadata": {},
   "outputs": [],
   "source": [
    "sars = spark.sql(\"SELECT _id, country, date_format(date, 'YYYY-MM-dd') as date, \\\n",
    "int((deaths - lag(deaths,1, deaths) over (partition by country ORDER BY date asc))) as deaths, deaths as cumul_deaths, recovered, \\\n",
    "int((cumul_nb_cases - lag(cumul_nb_cases,1, cumul_nb_cases) over (partition by country ORDER BY date asc))) as cases, \\\n",
    "cumul_nb_cases as cumul_cases, row_number() over (partition by country ORDER BY date asc) as row_num_date FROM sars\")"
   ]
  },
  {
   "cell_type": "code",
   "execution_count": 79,
   "metadata": {},
   "outputs": [
    {
     "name": "stdout",
     "output_type": "stream",
     "text": [
      "+--------------------+-------+----------+------+------------+---------+-----+-----------+------------+\n",
      "|                 _id|country|      date|deaths|cumul_deaths|recovered|cases|cumul_cases|row_num_date|\n",
      "+--------------------+-------+----------+------+------------+---------+-----+-----------+------------+\n",
      "|[5eaf225b9754f390...| Sweden|2003-04-14|     0|           0|        0|    0|          1|           1|\n",
      "|[5eaf225b9754f390...| Sweden|2003-04-15|     0|           0|        0|    0|          1|           2|\n",
      "|[5eaf225b9754f390...| Sweden|2003-04-16|     0|           0|        0|    0|          1|           3|\n",
      "|[5eaf225b9754f390...| Sweden|2003-04-17|     0|           0|        0|    0|          1|           4|\n",
      "|[5eaf225b9754f390...| Sweden|2003-04-18|     0|           0|        0|    2|          3|           5|\n",
      "|[5eaf225b9754f390...| Sweden|2003-04-19|     0|           0|        0|    0|          3|           6|\n",
      "|[5eaf225b9754f390...| Sweden|2003-04-21|     0|           0|        0|    0|          3|           7|\n",
      "|[5eaf225b9754f390...| Sweden|2003-04-22|     0|           0|        0|    0|          3|           8|\n",
      "|[5eaf225b9754f390...| Sweden|2003-04-23|     0|           0|        0|    0|          3|           9|\n",
      "|[5eaf225b9754f390...| Sweden|2003-04-24|     0|           0|        2|    0|          3|          10|\n",
      "|[5eaf225b9754f390...| Sweden|2003-04-25|     0|           0|        2|    0|          3|          11|\n",
      "|[5eaf225b9754f390...| Sweden|2003-04-26|     0|           0|        2|    0|          3|          12|\n",
      "|[5eaf225b9754f390...| Sweden|2003-04-28|     0|           0|        2|    0|          3|          13|\n",
      "|[5eaf225b9754f390...| Sweden|2003-04-29|     0|           0|        2|    0|          3|          14|\n",
      "|[5eaf225b9754f390...| Sweden|2003-04-30|     0|           0|        2|    0|          3|          15|\n",
      "|[5eaf225b9754f390...| Sweden|2003-05-01|     0|           0|        2|    0|          3|          16|\n",
      "|[5eaf225b9754f390...| Sweden|2003-05-02|     0|           0|        2|    0|          3|          17|\n",
      "|[5eaf225b9754f390...| Sweden|2003-05-03|     0|           0|        2|    0|          3|          18|\n",
      "|[5eaf225b9754f390...| Sweden|2003-05-05|     0|           0|        2|    0|          3|          19|\n",
      "|[5eaf225b9754f390...| Sweden|2003-05-06|     0|           0|        2|    0|          3|          20|\n",
      "+--------------------+-------+----------+------+------------+---------+-----+-----------+------------+\n",
      "only showing top 20 rows\n",
      "\n"
     ]
    }
   ],
   "source": [
    "sars.show()"
   ]
  },
  {
   "cell_type": "code",
   "execution_count": 80,
   "metadata": {},
   "outputs": [],
   "source": [
    "sars.createOrReplaceTempView(\"sars2\")"
   ]
  },
  {
   "cell_type": "code",
   "execution_count": 81,
   "metadata": {},
   "outputs": [],
   "source": [
    "sars2 = spark.sql(\"select row_number() over (partition by country order by int(cumul_cases) asc) as row_num_cumul, _id, country, date, deaths, cumul_deaths, recovered, cases, \\\n",
    "cumul_cases from sars2\")"
   ]
  },
  {
   "cell_type": "code",
   "execution_count": 82,
   "metadata": {},
   "outputs": [],
   "source": [
    "sars2.createOrReplaceTempView(\"sars3\")"
   ]
  },
  {
   "cell_type": "code",
   "execution_count": 83,
   "metadata": {},
   "outputs": [
    {
     "name": "stdout",
     "output_type": "stream",
     "text": [
      "+-------------+--------------------+-------+----------+------+------------+---------+-----+-----------+\n",
      "|row_num_cumul|                 _id|country|      date|deaths|cumul_deaths|recovered|cases|cumul_cases|\n",
      "+-------------+--------------------+-------+----------+------+------------+---------+-----+-----------+\n",
      "|            1|[5eaf225b9754f390...| Sweden|2003-04-14|     0|           0|        0|    0|          1|\n",
      "|            2|[5eaf225b9754f390...| Sweden|2003-04-15|     0|           0|        0|    0|          1|\n",
      "|            3|[5eaf225b9754f390...| Sweden|2003-04-16|     0|           0|        0|    0|          1|\n",
      "|            4|[5eaf225b9754f390...| Sweden|2003-04-17|     0|           0|        0|    0|          1|\n",
      "|            5|[5eaf225b9754f390...| Sweden|2003-04-18|     0|           0|        0|    2|          3|\n",
      "|            6|[5eaf225b9754f390...| Sweden|2003-04-19|     0|           0|        0|    0|          3|\n",
      "|            7|[5eaf225b9754f390...| Sweden|2003-04-21|     0|           0|        0|    0|          3|\n",
      "|            8|[5eaf225b9754f390...| Sweden|2003-04-22|     0|           0|        0|    0|          3|\n",
      "|            9|[5eaf225b9754f390...| Sweden|2003-04-23|     0|           0|        0|    0|          3|\n",
      "|           10|[5eaf225b9754f390...| Sweden|2003-04-24|     0|           0|        2|    0|          3|\n",
      "|           11|[5eaf225b9754f390...| Sweden|2003-04-25|     0|           0|        2|    0|          3|\n",
      "|           12|[5eaf225b9754f390...| Sweden|2003-04-26|     0|           0|        2|    0|          3|\n",
      "|           13|[5eaf225b9754f390...| Sweden|2003-04-28|     0|           0|        2|    0|          3|\n",
      "|           14|[5eaf225b9754f390...| Sweden|2003-04-29|     0|           0|        2|    0|          3|\n",
      "|           15|[5eaf225b9754f390...| Sweden|2003-04-30|     0|           0|        2|    0|          3|\n",
      "|           16|[5eaf225b9754f390...| Sweden|2003-05-01|     0|           0|        2|    0|          3|\n",
      "|           17|[5eaf225b9754f390...| Sweden|2003-05-02|     0|           0|        2|    0|          3|\n",
      "|           18|[5eaf225b9754f390...| Sweden|2003-05-03|     0|           0|        2|    0|          3|\n",
      "|           19|[5eaf225b9754f390...| Sweden|2003-05-05|     0|           0|        2|    0|          3|\n",
      "|           20|[5eaf225b9754f390...| Sweden|2003-05-06|     0|           0|        2|    0|          3|\n",
      "+-------------+--------------------+-------+----------+------+------------+---------+-----+-----------+\n",
      "only showing top 20 rows\n",
      "\n"
     ]
    }
   ],
   "source": [
    "spark.sql(\"SELECT * FROM sars3\").show()"
   ]
  },
  {
   "cell_type": "code",
   "execution_count": 84,
   "metadata": {},
   "outputs": [],
   "source": [
    "sars3 = spark.sql(\"SELECT CONCAT(row_num_cumul, country) as cle2,cumul_cases as cumul_cases_asc FROM sars3\")"
   ]
  },
  {
   "cell_type": "code",
   "execution_count": 85,
   "metadata": {},
   "outputs": [
    {
     "name": "stdout",
     "output_type": "stream",
     "text": [
      "+--------+---------------+\n",
      "|    cle2|cumul_cases_asc|\n",
      "+--------+---------------+\n",
      "| 1Sweden|              1|\n",
      "| 2Sweden|              1|\n",
      "| 3Sweden|              1|\n",
      "| 4Sweden|              1|\n",
      "| 5Sweden|              3|\n",
      "| 6Sweden|              3|\n",
      "| 7Sweden|              3|\n",
      "| 8Sweden|              3|\n",
      "| 9Sweden|              3|\n",
      "|10Sweden|              3|\n",
      "|11Sweden|              3|\n",
      "|12Sweden|              3|\n",
      "|13Sweden|              3|\n",
      "|14Sweden|              3|\n",
      "|15Sweden|              3|\n",
      "|16Sweden|              3|\n",
      "|17Sweden|              3|\n",
      "|18Sweden|              3|\n",
      "|19Sweden|              3|\n",
      "|20Sweden|              3|\n",
      "+--------+---------------+\n",
      "only showing top 20 rows\n",
      "\n"
     ]
    }
   ],
   "source": [
    "sars3.show()"
   ]
  },
  {
   "cell_type": "code",
   "execution_count": 43,
   "metadata": {},
   "outputs": [],
   "source": [
    "#sars3.write.format(\"com.mongodb.spark.sql.DefaultSource\").option(\"uri\",\"mongodb://mongodb:27017/epidemics2.epidemics_sars23\").save()"
   ]
  },
  {
   "cell_type": "code",
   "execution_count": 86,
   "metadata": {},
   "outputs": [],
   "source": [
    "sars.createOrReplaceTempView(\"sars4\")"
   ]
  },
  {
   "cell_type": "code",
   "execution_count": 87,
   "metadata": {},
   "outputs": [],
   "source": [
    "sars4 = spark.sql(\"SELECT _id, country, date, deaths, cumul_deaths, recovered, cases, cumul_cases, CONCAT(row_num_date, country) as cle1 FROM sars4\")"
   ]
  },
  {
   "cell_type": "code",
   "execution_count": 88,
   "metadata": {},
   "outputs": [],
   "source": [
    "sars4.createOrReplaceTempView(\"sars5\")"
   ]
  },
  {
   "cell_type": "code",
   "execution_count": 89,
   "metadata": {},
   "outputs": [],
   "source": [
    "sars3.createOrReplaceTempView(\"sarsCle\")"
   ]
  },
  {
   "cell_type": "code",
   "execution_count": 90,
   "metadata": {},
   "outputs": [
    {
     "name": "stdout",
     "output_type": "stream",
     "text": [
      "+--------+---------------+\n",
      "|    cle2|cumul_cases_asc|\n",
      "+--------+---------------+\n",
      "| 1Sweden|              1|\n",
      "| 2Sweden|              1|\n",
      "| 3Sweden|              1|\n",
      "| 4Sweden|              1|\n",
      "| 5Sweden|              3|\n",
      "| 6Sweden|              3|\n",
      "| 7Sweden|              3|\n",
      "| 8Sweden|              3|\n",
      "| 9Sweden|              3|\n",
      "|10Sweden|              3|\n",
      "|11Sweden|              3|\n",
      "|12Sweden|              3|\n",
      "|13Sweden|              3|\n",
      "|14Sweden|              3|\n",
      "|15Sweden|              3|\n",
      "|16Sweden|              3|\n",
      "|17Sweden|              3|\n",
      "|18Sweden|              3|\n",
      "|19Sweden|              3|\n",
      "|20Sweden|              3|\n",
      "+--------+---------------+\n",
      "only showing top 20 rows\n",
      "\n"
     ]
    }
   ],
   "source": [
    "spark.sql(\"select * from sarsCle\").show()"
   ]
  },
  {
   "cell_type": "code",
   "execution_count": 91,
   "metadata": {},
   "outputs": [],
   "source": [
    "sars5 = spark.sql(\"SELECT cle2, _id, country, date, deaths, cumul_deaths, recovered, cases, cumul_cases, cumul_cases_asc FROM sars5 JOIN sarsCle ON sars5.cle1=sarsCle.cle2 \\\n",
    "ORDER BY country, date asc\")"
   ]
  },
  {
   "cell_type": "code",
   "execution_count": 92,
   "metadata": {},
   "outputs": [],
   "source": [
    "sars5.write.format(\"com.mongodb.spark.sql.DefaultSource\").option(\"uri\",\"mongodb://mongodb:27017/epidemics2.epidemics_sars28\").save()"
   ]
  },
  {
   "cell_type": "code",
   "execution_count": null,
   "metadata": {},
   "outputs": [],
   "source": []
  }
 ],
 "metadata": {
  "kernelspec": {
   "display_name": "Python 3",
   "language": "python",
   "name": "python3"
  },
  "language_info": {
   "codemirror_mode": {
    "name": "ipython",
    "version": 3
   },
   "file_extension": ".py",
   "mimetype": "text/x-python",
   "name": "python",
   "nbconvert_exporter": "python",
   "pygments_lexer": "ipython3",
   "version": "3.7.6"
  }
 },
 "nbformat": 4,
 "nbformat_minor": 4
}
