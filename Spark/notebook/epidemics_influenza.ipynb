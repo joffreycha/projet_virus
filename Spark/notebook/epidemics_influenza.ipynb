{
 "cells": [
  {
   "cell_type": "code",
   "execution_count": 44,
   "metadata": {},
   "outputs": [],
   "source": [
    "from pymongo import MongoClient"
   ]
  },
  {
   "cell_type": "code",
   "execution_count": 45,
   "metadata": {},
   "outputs": [],
   "source": [
    "client = MongoClient(\"mongodb://mongodb:27017/\")"
   ]
  },
  {
   "cell_type": "code",
   "execution_count": 46,
   "metadata": {},
   "outputs": [],
   "source": [
    "from pyspark.sql import SparkSession\n",
    "spark = SparkSession.builder.appName(\"myApp\") \\\n",
    ".config('spark.jars.packages', 'org.mongodb.spark:mongo-spark-connector_2.11:2.3.2') \\\n",
    ".config(\"spark.mongodb.input.partitioner\", \"MongoPaginateByCountPartitioner\") \\\n",
    ".config(\"spark.mongodb.input.partitionerOptions.MongoPaginateByCountPartitioner.numberOfPartitions\", \"10\") \\\n",
    ".getOrCreate()"
   ]
  },
  {
   "cell_type": "code",
   "execution_count": 109,
   "metadata": {},
   "outputs": [],
   "source": [
    "influenza = spark.read.format(\"com.mongodb.spark.sql.DefaultSource\").option(\"uri\",\n",
    "\"mongodb://mongodb:27017/epidemics.influenza\").load()"
   ]
  },
  {
   "cell_type": "code",
   "execution_count": 8,
   "metadata": {},
   "outputs": [],
   "source": [
    "#influenza.show()"
   ]
  },
  {
   "cell_type": "code",
   "execution_count": 5,
   "metadata": {},
   "outputs": [
    {
     "data": {
      "text/plain": [
       "91998"
      ]
     },
     "execution_count": 5,
     "metadata": {},
     "output_type": "execute_result"
    }
   ],
   "source": [
    "influenza.count()"
   ]
  },
  {
   "cell_type": "code",
   "execution_count": 110,
   "metadata": {},
   "outputs": [],
   "source": [
    "influenza = influenza.selectExpr(\"_id\", \"country\", \"datefs\", \"stack(12, 'AH1', type_A_H1, 'AH1N12009', type_A_H1N1, 'AH3', type_A_H3, 'AH5', type_A_H5, \\\n",
    "'ANOTSUBTYPED', type_A_NS, 'BYAMAGATA', type_B_Yamata, 'BVICTORIA', type_B_Victoria, 'BNOTDETERMINED', type_B_ND) as (souche, cases)\")"
   ]
  },
  {
   "cell_type": "code",
   "execution_count": 111,
   "metadata": {},
   "outputs": [
    {
     "name": "stdout",
     "output_type": "stream",
     "text": [
      "+--------------------+-------+----------+--------------+-----+\n",
      "|                 _id|country|    datefs|        souche|cases|\n",
      "+--------------------+-------+----------+--------------+-----+\n",
      "|[5ec2c7322990bce6...|Algeria|2010-01-10|           AH1|    0|\n",
      "|[5ec2c7322990bce6...|Algeria|2010-01-10|     AH1N12009|   37|\n",
      "|[5ec2c7322990bce6...|Algeria|2010-01-10|           AH3|   23|\n",
      "|[5ec2c7322990bce6...|Algeria|2010-01-10|           AH5|    0|\n",
      "|[5ec2c7322990bce6...|Algeria|2010-01-10|  ANOTSUBTYPED|    0|\n",
      "|[5ec2c7322990bce6...|Algeria|2010-01-10|     BYAMAGATA|    0|\n",
      "|[5ec2c7322990bce6...|Algeria|2010-01-10|     BVICTORIA|    0|\n",
      "|[5ec2c7322990bce6...|Algeria|2010-01-10|BNOTDETERMINED|    0|\n",
      "|[5ec2c7322990bce6...|Algeria|2010-01-10|          null| null|\n",
      "|[5ec2c7322990bce6...|Algeria|2010-01-10|          null| null|\n",
      "|[5ec2c7322990bce6...|Algeria|2010-01-10|          null| null|\n",
      "|[5ec2c7322990bce6...|Algeria|2010-01-10|          null| null|\n",
      "|[5ec2c7322990bce6...|Algeria|2010-01-17|           AH1|    0|\n",
      "|[5ec2c7322990bce6...|Algeria|2010-01-17|     AH1N12009|   16|\n",
      "|[5ec2c7322990bce6...|Algeria|2010-01-17|           AH3|   20|\n",
      "|[5ec2c7322990bce6...|Algeria|2010-01-17|           AH5|    0|\n",
      "|[5ec2c7322990bce6...|Algeria|2010-01-17|  ANOTSUBTYPED|    0|\n",
      "|[5ec2c7322990bce6...|Algeria|2010-01-17|     BYAMAGATA|    0|\n",
      "|[5ec2c7322990bce6...|Algeria|2010-01-17|     BVICTORIA|    0|\n",
      "|[5ec2c7322990bce6...|Algeria|2010-01-17|BNOTDETERMINED|    0|\n",
      "+--------------------+-------+----------+--------------+-----+\n",
      "only showing top 20 rows\n",
      "\n"
     ]
    }
   ],
   "source": [
    "influenza.show()"
   ]
  },
  {
   "cell_type": "code",
   "execution_count": 112,
   "metadata": {},
   "outputs": [],
   "source": [
    "influenza.createOrReplaceTempView(\"influenza\")"
   ]
  },
  {
   "cell_type": "code",
   "execution_count": 113,
   "metadata": {},
   "outputs": [
    {
     "name": "stdout",
     "output_type": "stream",
     "text": [
      "+--------------------+-------+----------+----+------+-----+-----------+\n",
      "|                 _id|country|      date|type|souche|cases|cumul_cases|\n",
      "+--------------------+-------+----------+----+------+-----+-----------+\n",
      "|[5ec2c7332990bce6...| Belize|2010-01-10|   A|   AH3|    0|          0|\n",
      "|[5ec2c7332990bce6...| Belize|2010-01-17|   A|   AH3|    0|          0|\n",
      "|[5ec2c7332990bce6...| Belize|2010-01-24|   A|   AH3|    0|          0|\n",
      "|[5ec2c7332990bce6...| Belize|2010-01-31|   A|   AH3|    0|          0|\n",
      "|[5ec2c7332990bce6...| Belize|2010-02-07|   A|   AH3|    0|          0|\n",
      "|[5ec2c7332990bce6...| Belize|2010-02-14|   A|   AH3|    0|          0|\n",
      "|[5ec2c7332990bce6...| Belize|2010-02-21|   A|   AH3|    0|          0|\n",
      "|[5ec2c7332990bce6...| Belize|2010-02-28|   A|   AH3|    0|          0|\n",
      "|[5ec2c7332990bce6...| Belize|2010-03-07|   A|   AH3|    0|          0|\n",
      "|[5ec2c7332990bce6...| Belize|2010-03-14|   A|   AH3|    0|          0|\n",
      "|[5ec2c7332990bce6...| Belize|2010-03-21|   A|   AH3|    0|          0|\n",
      "|[5ec2c7332990bce6...| Belize|2010-03-28|   A|   AH3|    0|          0|\n",
      "|[5ec2c7332990bce6...| Belize|2010-04-04|   A|   AH3|    0|          0|\n",
      "|[5ec2c7332990bce6...| Belize|2010-04-11|   A|   AH3|    0|          0|\n",
      "|[5ec2c7332990bce6...| Belize|2010-04-18|   A|   AH3|    0|          0|\n",
      "|[5ec2c7332990bce6...| Belize|2010-04-25|   A|   AH3|    0|          0|\n",
      "|[5ec2c7332990bce6...| Belize|2010-05-02|   A|   AH3|    0|          0|\n",
      "|[5ec2c7332990bce6...| Belize|2010-05-09|   A|   AH3|    0|          0|\n",
      "|[5ec2c7332990bce6...| Belize|2010-05-16|   A|   AH3|    0|          0|\n",
      "|[5ec2c7332990bce6...| Belize|2010-05-23|   A|   AH3|    0|          0|\n",
      "+--------------------+-------+----------+----+------+-----+-----------+\n",
      "only showing top 20 rows\n",
      "\n"
     ]
    }
   ],
   "source": [
    "influenza = spark.sql(\"SELECT _id, country, datefs AS date, CASE WHEN souche like 'A%' THEN 'A' WHEN souche like 'B%' THEN 'B' END as type, souche, cases, \\\n",
    "COALESCE(int((sum(cases) over (partition by country, souche ORDER BY datefs asc))), 0) as cumul_cases FROM influenza\")\n",
    "influenza.show()"
   ]
  },
  {
   "cell_type": "code",
   "execution_count": 102,
   "metadata": {},
   "outputs": [],
   "source": [
    "#influenza.createOrReplaceTempView(\"influenza\")"
   ]
  },
  {
   "cell_type": "code",
   "execution_count": 104,
   "metadata": {},
   "outputs": [],
   "source": [
    "#influenza = spark.sql(\"SELECT _id, country, datefs AS date, type, cases, \\\n",
    "#COALESCE(int((sum(cases) over (partition by country, type ORDER BY datefs asc))), 0) as cumul_cases FROM influenza\")\n",
    "#influenza.show()"
   ]
  },
  {
   "cell_type": "code",
   "execution_count": 10,
   "metadata": {},
   "outputs": [],
   "source": [
    "#influenza = spark.sql(\"SELECT _id, country, datefs AS date,\\\n",
    "#type_A_H1 AS AH1, type_A_H1N1 AS AH1N12009, type_A_H3 AS AH3, type_A_H5 AS AH5, type_A_NS ANOTSUBTYPED,\\\n",
    "#type_A_total AS INF_A, type_B_Yamata AS BYAMAGATA, type_B_Victoria AS BVICTORIA, type_B_ND AS BNOTDETERMINED,\\\n",
    "#type_B_total AS INF_B, total_positives AS ALL_INF, total_negatives AS ALL_INF2 FROM influenza\")\n",
    "#influenza.show()"
   ]
  },
  {
   "cell_type": "code",
   "execution_count": null,
   "metadata": {},
   "outputs": [],
   "source": [
    "#influenza = spark.sql(\"SELECT _id, country, datefs AS date,\\\n",
    "#type_A_H1 AS AH1, type_A_H1N1 AS AH1N12009, type_A_H3 AS AH3, type_A_H5 AS AH5, type_A_NS ANOTSUBTYPED,\\\n",
    "#type_A_total AS INF_A, type_B_Yamata AS BYAMAGATA, type_B_Victoria AS BVICTORIA, type_B_ND AS BNOTDETERMINED,\\\n",
    "#type_B_total AS INF_B, total_positives AS ALL_INF, total_negatives AS ALL_INF2 FROM influenza\")"
   ]
  },
  {
   "cell_type": "code",
   "execution_count": 28,
   "metadata": {},
   "outputs": [],
   "source": [
    "#days_week = spark.sql(\"SELECT distinct (year, week) FROM influenza\")"
   ]
  },
  {
   "cell_type": "code",
   "execution_count": 29,
   "metadata": {},
   "outputs": [],
   "source": [
    "#days_week = spark.sql(\"SELECT year, week, dateds AS week_start_date, datefs AS week_end_date FROM influenza GROUP BY year, week, week_start_date, week_end_date\")"
   ]
  },
  {
   "cell_type": "code",
   "execution_count": 20,
   "metadata": {},
   "outputs": [],
   "source": [
    "#days_week.show()"
   ]
  },
  {
   "cell_type": "code",
   "execution_count": 114,
   "metadata": {},
   "outputs": [],
   "source": [
    "influenza.write.format(\"com.mongodb.spark.sql.DefaultSource\").option(\"uri\",\"mongodb://mongodb:27017/epidemics2.epidemics_influenza\").save()"
   ]
  },
  {
   "cell_type": "code",
   "execution_count": 12,
   "metadata": {},
   "outputs": [],
   "source": [
    "#days_week.write.format(\"com.mongodb.spark.sql.DefaultSource\").option(\"uri\",\"mongodb://mongodb:27017/epidemics.days_week\").save()"
   ]
  }
 ],
 "metadata": {
  "kernelspec": {
   "display_name": "Python 3",
   "language": "python",
   "name": "python3"
  },
  "language_info": {
   "codemirror_mode": {
    "name": "ipython",
    "version": 3
   },
   "file_extension": ".py",
   "mimetype": "text/x-python",
   "name": "python",
   "nbconvert_exporter": "python",
   "pygments_lexer": "ipython3",
   "version": "3.7.6"
  }
 },
 "nbformat": 4,
 "nbformat_minor": 4
}
