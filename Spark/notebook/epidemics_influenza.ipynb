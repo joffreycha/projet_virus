{
 "cells": [
  {
   "cell_type": "code",
   "execution_count": 1,
   "metadata": {},
   "outputs": [],
   "source": [
    "from pymongo import MongoClient"
   ]
  },
  {
   "cell_type": "code",
   "execution_count": 2,
   "metadata": {},
   "outputs": [],
   "source": [
    "client = MongoClient(\"mongodb://mongodb:27017/\")"
   ]
  },
  {
   "cell_type": "code",
   "execution_count": 11,
   "metadata": {},
   "outputs": [],
   "source": [
    "from pyspark.sql import SparkSession\n",
    "spark = SparkSession.builder.appName(\"myApp\") \\\n",
    ".config('spark.jars.packages', 'org.mongodb.spark:mongo-spark-connector_2.11:2.3.2') \\\n",
    ".config(\"spark.mongodb.input.partitioner\", \"MongoPaginateByCountPartitioner\") \\\n",
    ".config(\"spark.mongodb.input.partitionerOptions.MongoPaginateByCountPartitioner.numberOfPartitions\", \"10\") \\\n",
    ".getOrCreate()"
   ]
  },
  {
   "cell_type": "code",
   "execution_count": 12,
   "metadata": {},
   "outputs": [],
   "source": [
    "influenza = spark.read.format(\"com.mongodb.spark.sql.DefaultSource\").option(\"uri\",\n",
    "\"mongodb://mongodb:27017/epidemics.influenza\").load()"
   ]
  },
  {
   "cell_type": "code",
   "execution_count": 6,
   "metadata": {},
   "outputs": [],
   "source": [
    "#influenza.show()"
   ]
  },
  {
   "cell_type": "code",
   "execution_count": null,
   "metadata": {},
   "outputs": [],
   "source": [
    "influenza.count()"
   ]
  },
  {
   "cell_type": "code",
   "execution_count": 13,
   "metadata": {},
   "outputs": [],
   "source": [
    "influenza.createOrReplaceTempView(\"influenza\")"
   ]
  },
  {
   "cell_type": "code",
   "execution_count": 14,
   "metadata": {},
   "outputs": [],
   "source": [
    "influenza = spark.sql(\"SELECT _id, country, year, week, dateds AS week_start_date, datefs AS week_end_date,\\\n",
    "type_A_H1 AS AH1, type_A_H1N1 AS AH1N12009, type_A_H3 AS AH3, type_A_H5 AS AH5, type_A_NS ANOTSUBTYPED,\\\n",
    "type_A_total AS INF_A, type_B_Yamata AS BYAMAGATA, type_B_Victoria AS BVICTORIA, type_B_ND AS BNOTDETERMINED,\\\n",
    "type_B_total AS INF_B, total_positives AS ALL_INF, total_negatives AS ALL_INF2 FROM influenza\")\n",
    "#influenza.show()"
   ]
  },
  {
   "cell_type": "code",
   "execution_count": 16,
   "metadata": {},
   "outputs": [],
   "source": [
    "influenza.write.format(\"com.mongodb.spark.sql.DefaultSource\").option(\"uri\",\"mongodb://mongodb:27017/epidemics2.test_influenza\").save()"
   ]
  }
 ],
 "metadata": {
  "kernelspec": {
   "display_name": "Python 3",
   "language": "python",
   "name": "python3"
  },
  "language_info": {
   "codemirror_mode": {
    "name": "ipython",
    "version": 3
   },
   "file_extension": ".py",
   "mimetype": "text/x-python",
   "name": "python",
   "nbconvert_exporter": "python",
   "pygments_lexer": "ipython3",
   "version": "3.7.6"
  }
 },
 "nbformat": 4,
 "nbformat_minor": 4
}
