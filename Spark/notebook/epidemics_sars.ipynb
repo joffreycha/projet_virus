{
 "cells": [
  {
   "cell_type": "code",
   "execution_count": 1,
   "metadata": {},
   "outputs": [],
   "source": [
    "from pymongo import MongoClient"
   ]
  },
  {
   "cell_type": "code",
   "execution_count": 2,
   "metadata": {},
   "outputs": [],
   "source": [
    "client = MongoClient(\"mongodb://mongodb:27017/\")"
   ]
  },
  {
   "cell_type": "code",
   "execution_count": 3,
   "metadata": {},
   "outputs": [],
   "source": [
    "from pyspark.sql import SparkSession\n",
    "spark = SparkSession.builder.appName(\"myApp\") \\\n",
    ".config('spark.jars.packages', 'org.mongodb.spark:mongo-spark-connector_2.11:2.3.2') \\\n",
    ".getOrCreate()"
   ]
  },
  {
   "cell_type": "code",
   "execution_count": 4,
   "metadata": {},
   "outputs": [],
   "source": [
    "sars = spark.read.format(\"com.mongodb.spark.sql.DefaultSource\").option(\"uri\",\n",
    "\"mongodb://mongodb:27017/epidemics.sars\").load()"
   ]
  },
  {
   "cell_type": "code",
   "execution_count": 5,
   "metadata": {},
   "outputs": [],
   "source": [
    "sars.createOrReplaceTempView(\"sars\")"
   ]
  },
  {
   "cell_type": "code",
   "execution_count": 33,
   "metadata": {},
   "outputs": [],
   "source": [
    "sars = spark.sql(\"SELECT _id, country, date_format(date, 'YYYY-MM-dd') as date, \\\n",
    "COALESCE(int((deaths - lag(deaths,1) over (partition by country ORDER BY date asc))), deaths) as deaths, deaths as cumul_deaths, \\\n",
    "COALESCE(int((cumul_nb_cases - lag(cumul_nb_cases,1) over (partition by country ORDER BY date asc))), cumul_nb_cases) as cases, \\\n",
    "cumul_nb_cases as cumul_cases FROM sars\")"
   ]
  },
  {
   "cell_type": "code",
   "execution_count": 34,
   "metadata": {},
   "outputs": [
    {
     "name": "stdout",
     "output_type": "stream",
     "text": [
      "+--------------------+-------+----------+------+------------+-----+-----------+\n",
      "|                 _id|country|      date|deaths|cumul_deaths|cases|cumul_cases|\n",
      "+--------------------+-------+----------+------+------------+-----+-----------+\n",
      "|[5eaf225b9754f390...| Sweden|2003-04-14|     0|           0|    1|          1|\n",
      "|[5eaf225b9754f390...| Sweden|2003-04-15|     0|           0|    0|          1|\n",
      "|[5eaf225b9754f390...| Sweden|2003-04-16|     0|           0|    0|          1|\n",
      "|[5eaf225b9754f390...| Sweden|2003-04-17|     0|           0|    0|          1|\n",
      "|[5eaf225b9754f390...| Sweden|2003-04-18|     0|           0|    2|          3|\n",
      "|[5eaf225b9754f390...| Sweden|2003-04-19|     0|           0|    0|          3|\n",
      "|[5eaf225b9754f390...| Sweden|2003-04-21|     0|           0|    0|          3|\n",
      "|[5eaf225b9754f390...| Sweden|2003-04-22|     0|           0|    0|          3|\n",
      "|[5eaf225b9754f390...| Sweden|2003-04-23|     0|           0|    0|          3|\n",
      "|[5eaf225b9754f390...| Sweden|2003-04-24|     0|           0|    0|          3|\n",
      "|[5eaf225b9754f390...| Sweden|2003-04-25|     0|           0|    0|          3|\n",
      "|[5eaf225b9754f390...| Sweden|2003-04-26|     0|           0|    0|          3|\n",
      "|[5eaf225b9754f390...| Sweden|2003-04-28|     0|           0|    0|          3|\n",
      "|[5eaf225b9754f390...| Sweden|2003-04-29|     0|           0|    0|          3|\n",
      "|[5eaf225b9754f390...| Sweden|2003-04-30|     0|           0|    0|          3|\n",
      "|[5eaf225b9754f390...| Sweden|2003-05-01|     0|           0|    0|          3|\n",
      "|[5eaf225b9754f390...| Sweden|2003-05-02|     0|           0|    0|          3|\n",
      "|[5eaf225b9754f390...| Sweden|2003-05-03|     0|           0|    0|          3|\n",
      "|[5eaf225b9754f390...| Sweden|2003-05-05|     0|           0|    0|          3|\n",
      "|[5eaf225b9754f390...| Sweden|2003-05-06|     0|           0|    0|          3|\n",
      "+--------------------+-------+----------+------+------------+-----+-----------+\n",
      "only showing top 20 rows\n",
      "\n"
     ]
    }
   ],
   "source": [
    "sars.show()"
   ]
  },
  {
   "cell_type": "code",
   "execution_count": 18,
   "metadata": {},
   "outputs": [],
   "source": [
    "#sars = spark.sql(\"SELECT _id, country, date_format(date, 'YYYY-MM-dd') as date, deaths, cumul_nb_cases as cumul_cases FROM sars\")\n",
    "#sars.show()"
   ]
  },
  {
   "cell_type": "code",
   "execution_count": 35,
   "metadata": {},
   "outputs": [],
   "source": [
    "sars.write.format(\"com.mongodb.spark.sql.DefaultSource\").option(\"uri\",\"mongodb://mongodb:27017/epidemics2.epidemics_sars\").save()"
   ]
  },
  {
   "cell_type": "code",
   "execution_count": null,
   "metadata": {},
   "outputs": [],
   "source": []
  }
 ],
 "metadata": {
  "kernelspec": {
   "display_name": "Python 3",
   "language": "python",
   "name": "python3"
  },
  "language_info": {
   "codemirror_mode": {
    "name": "ipython",
    "version": 3
   },
   "file_extension": ".py",
   "mimetype": "text/x-python",
   "name": "python",
   "nbconvert_exporter": "python",
   "pygments_lexer": "ipython3",
   "version": "3.7.6"
  }
 },
 "nbformat": 4,
 "nbformat_minor": 4
}
