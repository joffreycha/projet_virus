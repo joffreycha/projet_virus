{
 "cells": [
  {
   "cell_type": "code",
   "execution_count": 8,
   "metadata": {},
   "outputs": [],
   "source": [
    "from pymongo import MongoClient"
   ]
  },
  {
   "cell_type": "code",
   "execution_count": 9,
   "metadata": {},
   "outputs": [],
   "source": [
    "client = MongoClient(\"mongodb://mongodb:27017/\")"
   ]
  },
  {
   "cell_type": "code",
   "execution_count": 10,
   "metadata": {},
   "outputs": [],
   "source": [
    "from pyspark.sql import SparkSession\n",
    "spark = SparkSession.builder.appName(\"myApp\") \\\n",
    ".config('spark.jars.packages', 'org.mongodb.spark:mongo-spark-connector_2.11:2.3.2') \\\n",
    ".getOrCreate()"
   ]
  },
  {
   "cell_type": "code",
   "execution_count": 11,
   "metadata": {},
   "outputs": [],
   "source": [
    "sars = spark.read.format(\"com.mongodb.spark.sql.DefaultSource\").option(\"uri\",\n",
    "\"mongodb://mongodb:27017/epidemics.sars\").load()"
   ]
  },
  {
   "cell_type": "code",
   "execution_count": 12,
   "metadata": {},
   "outputs": [],
   "source": [
    "sars.createOrReplaceTempView(\"sars\")"
   ]
  },
  {
   "cell_type": "code",
   "execution_count": 15,
   "metadata": {},
   "outputs": [
    {
     "name": "stdout",
     "output_type": "stream",
     "text": [
      "+--------------------+--------------------+----------+------+-----------+\n",
      "|                 _id|             country|      date|deaths|cumul_cases|\n",
      "+--------------------+--------------------+----------+------+-----------+\n",
      "|[5ec3cec042d3126b...|             Germany|2003-03-17|     0|          1|\n",
      "|[5ec3cec042d3126b...|              Canada|2003-03-17|     2|          8|\n",
      "|[5ec3cec042d3126b...|           Singapore|2003-03-17|     0|         20|\n",
      "|[5ec3cec042d3126b...|Hong Kong SAR, China|2003-03-17|     1|         95|\n",
      "|[5ec3cec042d3126b...|         Switzerland|2003-03-17|     0|          2|\n",
      "|[5ec3cec042d3126b...|            Thailand|2003-03-17|     0|          1|\n",
      "|[5ec3cec042d3126b...|            Viet Nam|2003-03-17|     1|         40|\n",
      "|[5ec3cec042d3126b...|             Germany|2003-03-18|     0|          2|\n",
      "|[5ec3cec042d3126b...|              Canada|2003-03-18|     2|          8|\n",
      "|[5ec3cec042d3126b...|               China|2003-03-18|     0|          0|\n",
      "|[5ec3cec042d3126b...|           Singapore|2003-03-18|     0|         23|\n",
      "|[5ec3cec042d3126b...|Hong Kong SAR, China|2003-03-18|     1|        123|\n",
      "|[5ec3cec042d3126b...|       Taiwan, China|2003-03-18|     0|          3|\n",
      "|[5ec3cec042d3126b...|            Thailand|2003-03-18|     0|          1|\n",
      "|[5ec3cec042d3126b...|            Viet Nam|2003-03-18|     1|         57|\n",
      "|[5ec3cec042d3126b...|            Slovenia|2003-03-18|     0|          1|\n",
      "|[5ec3cec042d3126b...|      United Kingdom|2003-03-18|     0|          1|\n",
      "|[5ec3cec042d3126b...|              Canada|2003-03-19|     2|          8|\n",
      "|[5ec3cec042d3126b...|               China|2003-03-19|     0|          0|\n",
      "|[5ec3cec042d3126b...|             Germany|2003-03-19|     0|          1|\n",
      "+--------------------+--------------------+----------+------+-----------+\n",
      "only showing top 20 rows\n",
      "\n"
     ]
    }
   ],
   "source": [
    "sars = spark.sql(\"SELECT _id, country, date_format(date, 'YYYY-MM-dd') as date, deaths, cumul_nb_cases as cumul_cases FROM sars\")\n",
    "sars.show()"
   ]
  },
  {
   "cell_type": "code",
   "execution_count": 16,
   "metadata": {},
   "outputs": [],
   "source": [
    "sars.write.format(\"com.mongodb.spark.sql.DefaultSource\").option(\"uri\",\"mongodb://mongodb:27017/epidemics2.epidemics_sars\").save()"
   ]
  },
  {
   "cell_type": "code",
   "execution_count": null,
   "metadata": {},
   "outputs": [],
   "source": []
  }
 ],
 "metadata": {
  "kernelspec": {
   "display_name": "Python 3",
   "language": "python",
   "name": "python3"
  },
  "language_info": {
   "codemirror_mode": {
    "name": "ipython",
    "version": 3
   },
   "file_extension": ".py",
   "mimetype": "text/x-python",
   "name": "python",
   "nbconvert_exporter": "python",
   "pygments_lexer": "ipython3",
   "version": "3.7.6"
  }
 },
 "nbformat": 4,
 "nbformat_minor": 4
}
