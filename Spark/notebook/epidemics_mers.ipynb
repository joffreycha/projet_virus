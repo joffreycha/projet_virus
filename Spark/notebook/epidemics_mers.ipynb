{
 "cells": [
  {
   "cell_type": "code",
   "execution_count": 22,
   "metadata": {},
   "outputs": [],
   "source": [
    "from pymongo import MongoClient"
   ]
  },
  {
   "cell_type": "code",
   "execution_count": 23,
   "metadata": {},
   "outputs": [],
   "source": [
    "client = MongoClient(\"mongodb://mongodb:27017/\")"
   ]
  },
  {
   "cell_type": "code",
   "execution_count": 24,
   "metadata": {},
   "outputs": [],
   "source": [
    "from pyspark.sql import SparkSession\n",
    "spark = SparkSession.builder.appName(\"myApp\") \\\n",
    ".config('spark.jars.packages', 'org.mongodb.spark:mongo-spark-connector_2.11:2.3.2') \\\n",
    ".getOrCreate()"
   ]
  },
  {
   "cell_type": "code",
   "execution_count": 25,
   "metadata": {},
   "outputs": [],
   "source": [
    "mers = spark.read.format(\"com.mongodb.spark.sql.DefaultSource\").option(\"uri\",\n",
    "\"mongodb://mongodb:27017/epidemics.mers\").load()"
   ]
  },
  {
   "cell_type": "code",
   "execution_count": 5,
   "metadata": {},
   "outputs": [],
   "source": [
    "#days_week = spark.read.format(\"com.mongodb.spark.sql.DefaultSource\").option(\"uri\",\n",
    "#\"mongodb://mongodb:27017/epidemics1.days_week\").load()"
   ]
  },
  {
   "cell_type": "code",
   "execution_count": 27,
   "metadata": {},
   "outputs": [],
   "source": [
    "mers.createOrReplaceTempView(\"mers\")\n",
    "#days_week.createOrReplaceTempView(\"days_week\")"
   ]
  },
  {
   "cell_type": "code",
   "execution_count": 43,
   "metadata": {},
   "outputs": [],
   "source": [
    "mers = spark.sql(\"SELECT _id, region AS country, year, week, int(new_cases) AS cases, \\\n",
    "COALESCE(int((sum(new_cases) over (partition by region ORDER BY year, int(week) asc))), 0) as cumul_cases FROM mers\")"
   ]
  },
  {
   "cell_type": "code",
   "execution_count": 44,
   "metadata": {},
   "outputs": [
    {
     "name": "stdout",
     "output_type": "stream",
     "text": [
      "+--------------------+-----------------+----+----+-----+-----------+\n",
      "|                 _id|          country|year|week|cases|cumul_cases|\n",
      "+--------------------+-----------------+----+----+-----+-----------+\n",
      "|[5eaad581681795c9...|Republic of Korea|2012|  12|    0|          0|\n",
      "|[5eaad581681795c9...|Republic of Korea|2012|  13|    0|          0|\n",
      "|[5eaad581681795c9...|Republic of Korea|2012|  14|    0|          0|\n",
      "|[5eaad581681795c9...|Republic of Korea|2012|  15|    0|          0|\n",
      "|[5eaad581681795c9...|Republic of Korea|2012|  16|    0|          0|\n",
      "|[5eaad581681795c9...|Republic of Korea|2012|  17|    0|          0|\n",
      "|[5eaad581681795c9...|Republic of Korea|2012|  18|    0|          0|\n",
      "|[5eaad581681795c9...|Republic of Korea|2012|  19|    0|          0|\n",
      "|[5eaad581681795c9...|Republic of Korea|2012|  20|    0|          0|\n",
      "|[5eaad581681795c9...|Republic of Korea|2012|  21|    0|          0|\n",
      "|[5eaad581681795c9...|Republic of Korea|2012|  22|    0|          0|\n",
      "|[5eaad581681795c9...|Republic of Korea|2012|  23|    0|          0|\n",
      "|[5eaad581681795c9...|Republic of Korea|2012|  24|    0|          0|\n",
      "|[5eaad581681795c9...|Republic of Korea|2012|  25|    0|          0|\n",
      "|[5eaad581681795c9...|Republic of Korea|2012|  26|    0|          0|\n",
      "|[5eaad581681795c9...|Republic of Korea|2012|  27|    0|          0|\n",
      "|[5eaad581681795c9...|Republic of Korea|2012|  28|    0|          0|\n",
      "|[5eaad581681795c9...|Republic of Korea|2012|  29|    0|          0|\n",
      "|[5eaad581681795c9...|Republic of Korea|2012|  30|    0|          0|\n",
      "|[5eaad581681795c9...|Republic of Korea|2012|  31|    0|          0|\n",
      "+--------------------+-----------------+----+----+-----+-----------+\n",
      "only showing top 20 rows\n",
      "\n"
     ]
    }
   ],
   "source": [
    "mers.show()"
   ]
  },
  {
   "cell_type": "code",
   "execution_count": 15,
   "metadata": {},
   "outputs": [],
   "source": [
    "#mers = spark.sql(\"SELECT mers._id, region, mers.year, mers.week, week_start_date, week_end_date, int(new_cases) FROM mers left join days_week on \\\n",
    "#(mers.year=days_week.year) AND (mers.week=days_week.week)\")"
   ]
  },
  {
   "cell_type": "code",
   "execution_count": 22,
   "metadata": {},
   "outputs": [],
   "source": [
    "#mers.createOrReplaceTempView(\"mers\")"
   ]
  },
  {
   "cell_type": "code",
   "execution_count": 31,
   "metadata": {},
   "outputs": [],
   "source": [
    "#spark.sql(\"SELECT * FROM mers ORDER BY week_start_date\").show()"
   ]
  },
  {
   "cell_type": "code",
   "execution_count": 11,
   "metadata": {},
   "outputs": [],
   "source": [
    "#mers.show()"
   ]
  },
  {
   "cell_type": "code",
   "execution_count": 45,
   "metadata": {},
   "outputs": [],
   "source": [
    "mers.write.format(\"com.mongodb.spark.sql.DefaultSource\").option(\"uri\",\"mongodb://mongodb:27017/epidemics2.epidemics_mers\").save()"
   ]
  }
 ],
 "metadata": {
  "kernelspec": {
   "display_name": "Python 3",
   "language": "python",
   "name": "python3"
  },
  "language_info": {
   "codemirror_mode": {
    "name": "ipython",
    "version": 3
   },
   "file_extension": ".py",
   "mimetype": "text/x-python",
   "name": "python",
   "nbconvert_exporter": "python",
   "pygments_lexer": "ipython3",
   "version": "3.7.6"
  }
 },
 "nbformat": 4,
 "nbformat_minor": 4
}
