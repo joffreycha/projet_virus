{
 "cells": [
  {
   "cell_type": "code",
   "execution_count": 1,
   "metadata": {},
   "outputs": [],
   "source": [
    "from pymongo import MongoClient"
   ]
  },
  {
   "cell_type": "code",
   "execution_count": 2,
   "metadata": {},
   "outputs": [],
   "source": [
    "client = MongoClient(\"mongodb://mongodb:27017/\")"
   ]
  },
  {
   "cell_type": "code",
   "execution_count": 3,
   "metadata": {},
   "outputs": [],
   "source": [
    "from pyspark.sql import SparkSession\n",
    "spark = SparkSession.builder.appName(\"myApp\") \\\n",
    ".config('spark.jars.packages', 'org.mongodb.spark:mongo-spark-connector_2.11:2.3.2') \\\n",
    ".getOrCreate()"
   ]
  },
  {
   "cell_type": "code",
   "execution_count": 4,
   "metadata": {},
   "outputs": [],
   "source": [
    "mers = spark.read.format(\"com.mongodb.spark.sql.DefaultSource\").option(\"uri\",\n",
    "\"mongodb://mongodb:27017/epidemics.mers\").load()"
   ]
  },
  {
   "cell_type": "code",
   "execution_count": 5,
   "metadata": {},
   "outputs": [],
   "source": [
    "#days_week = spark.read.format(\"com.mongodb.spark.sql.DefaultSource\").option(\"uri\",\n",
    "#\"mongodb://mongodb:27017/epidemics1.days_week\").load()"
   ]
  },
  {
   "cell_type": "code",
   "execution_count": 5,
   "metadata": {},
   "outputs": [],
   "source": [
    "mers.createOrReplaceTempView(\"mers\")\n",
    "#days_week.createOrReplaceTempView(\"days_week\")"
   ]
  },
  {
   "cell_type": "code",
   "execution_count": 6,
   "metadata": {},
   "outputs": [],
   "source": [
    "mers = spark.sql(\"SELECT _id, region AS country, year, week, int(new_cases) AS cases FROM mers\")"
   ]
  },
  {
   "cell_type": "code",
   "execution_count": 15,
   "metadata": {},
   "outputs": [],
   "source": [
    "#mers = spark.sql(\"SELECT mers._id, region, mers.year, mers.week, week_start_date, week_end_date, int(new_cases) FROM mers left join days_week on \\\n",
    "#(mers.year=days_week.year) AND (mers.week=days_week.week)\")"
   ]
  },
  {
   "cell_type": "code",
   "execution_count": 22,
   "metadata": {},
   "outputs": [],
   "source": [
    "#mers.createOrReplaceTempView(\"mers\")"
   ]
  },
  {
   "cell_type": "code",
   "execution_count": 23,
   "metadata": {},
   "outputs": [
    {
     "name": "stdout",
     "output_type": "stream",
     "text": [
      "+--------------------+-----------------+----+----+---------------+-------------+---------+\n",
      "|                 _id|           region|year|week|week_start_date|week_end_date|new_cases|\n",
      "+--------------------+-----------------+----+----+---------------+-------------+---------+\n",
      "|[5eaad581681795c9...|     Saudi Arabia|2017|  53|           null|         null|        6|\n",
      "|[5eaad581681795c9...|Republic of Korea|2017|  53|           null|         null|        0|\n",
      "|[5eaad581681795c9...|  Other Countries|2017|  53|           null|         null|        0|\n",
      "|[5eaad581681795c9...|     Saudi Arabia|2012|  12|     2012-03-19|   2012-03-25|        0|\n",
      "|[5eaad581681795c9...|Republic of Korea|2012|  12|     2012-03-19|   2012-03-25|        0|\n",
      "|[5eaad581681795c9...|  Other Countries|2012|  12|     2012-03-19|   2012-03-25|        1|\n",
      "|[5eaad581681795c9...|Republic of Korea|2012|  13|     2012-03-26|   2012-04-01|        0|\n",
      "|[5eaad581681795c9...|  Other Countries|2012|  13|     2012-03-26|   2012-04-01|        0|\n",
      "|[5eaad581681795c9...|     Saudi Arabia|2012|  13|     2012-03-26|   2012-04-01|        0|\n",
      "|[5eaad581681795c9...|  Other Countries|2012|  14|     2012-04-02|   2012-04-08|        1|\n",
      "|[5eaad581681795c9...|Republic of Korea|2012|  14|     2012-04-02|   2012-04-08|        0|\n",
      "|[5eaad581681795c9...|     Saudi Arabia|2012|  14|     2012-04-02|   2012-04-08|        0|\n",
      "|[5eaad581681795c9...|     Saudi Arabia|2012|  15|     2012-04-09|   2012-04-15|        0|\n",
      "|[5eaad581681795c9...|Republic of Korea|2012|  15|     2012-04-09|   2012-04-15|        0|\n",
      "|[5eaad581681795c9...|  Other Countries|2012|  15|     2012-04-09|   2012-04-15|        0|\n",
      "|[5eaad581681795c9...|     Saudi Arabia|2012|  16|     2012-04-16|   2012-04-22|        0|\n",
      "|[5eaad581681795c9...|  Other Countries|2012|  16|     2012-04-16|   2012-04-22|        0|\n",
      "|[5eaad581681795c9...|Republic of Korea|2012|  16|     2012-04-16|   2012-04-22|        0|\n",
      "|[5eaad581681795c9...|  Other Countries|2012|  17|     2012-04-23|   2012-04-29|        0|\n",
      "|[5eaad581681795c9...|Republic of Korea|2012|  17|     2012-04-23|   2012-04-29|        0|\n",
      "+--------------------+-----------------+----+----+---------------+-------------+---------+\n",
      "only showing top 20 rows\n",
      "\n"
     ]
    }
   ],
   "source": [
    "#spark.sql(\"SELECT * FROM mers ORDER BY week_start_date\").show()"
   ]
  },
  {
   "cell_type": "code",
   "execution_count": 11,
   "metadata": {},
   "outputs": [],
   "source": [
    "#mers.show()"
   ]
  },
  {
   "cell_type": "code",
   "execution_count": 7,
   "metadata": {},
   "outputs": [],
   "source": [
    "mers.write.format(\"com.mongodb.spark.sql.DefaultSource\").option(\"uri\",\"mongodb://mongodb:27017/epidemics2.epidemics_mers\").save()"
   ]
  }
 ],
 "metadata": {
  "kernelspec": {
   "display_name": "Python 3",
   "language": "python",
   "name": "python3"
  },
  "language_info": {
   "codemirror_mode": {
    "name": "ipython",
    "version": 3
   },
   "file_extension": ".py",
   "mimetype": "text/x-python",
   "name": "python",
   "nbconvert_exporter": "python",
   "pygments_lexer": "ipython3",
   "version": "3.7.6"
  }
 },
 "nbformat": 4,
 "nbformat_minor": 4
}
