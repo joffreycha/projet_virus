{
 "cells": [
  {
   "cell_type": "code",
   "execution_count": 17,
   "metadata": {},
   "outputs": [],
   "source": [
    "from pymongo import MongoClient"
   ]
  },
  {
   "cell_type": "code",
   "execution_count": 18,
   "metadata": {},
   "outputs": [],
   "source": [
    "client = MongoClient(\"mongodb://mongodb:27017/\")"
   ]
  },
  {
   "cell_type": "code",
   "execution_count": 19,
   "metadata": {},
   "outputs": [],
   "source": [
    "from pyspark.sql import SparkSession"
   ]
  },
  {
   "cell_type": "code",
   "execution_count": 20,
   "metadata": {},
   "outputs": [],
   "source": [
    "from pyspark.sql import SparkSession\n",
    "spark = SparkSession.builder.appName(\"myApp\") \\\n",
    ".config('spark.jars.packages', 'org.mongodb.spark:mongo-spark-connector_2.11:2.3.2') \\\n",
    ".getOrCreate()"
   ]
  },
  {
   "cell_type": "code",
   "execution_count": 16,
   "metadata": {},
   "outputs": [],
   "source": [
    "#client.list_database_names()"
   ]
  },
  {
   "cell_type": "code",
   "execution_count": 21,
   "metadata": {},
   "outputs": [],
   "source": [
    "df = spark.read.format(\"com.mongodb.spark.sql.DefaultSource\").option(\"uri\",\n",
    "\"mongodb://mongodb:27017/epidemics.h1n1\").load()"
   ]
  },
  {
   "cell_type": "code",
   "execution_count": 22,
   "metadata": {},
   "outputs": [
    {
     "name": "stdout",
     "output_type": "stream",
     "text": [
      "+--------------------+------+--------------------+--------------------+------+\n",
      "|                 _id| cases|             country|           deathrate|deaths|\n",
      "+--------------------+------+--------------------+--------------------+------+\n",
      "|[5eaa80f39faa0c99...|208269|United States of ...|0.006073875612789229|  1265|\n",
      "|[5eaa80f39faa0c99...| 17530|      United Kingdom| 0.01426126640045636|   250|\n",
      "|[5eaa80f39faa0c99...| 10449|            Thailand|0.017896449420997225|   187|\n",
      "|[5eaa80f39faa0c99...| 24949|              Mexico| 0.02629363902360816|   656|\n",
      "|[5eaa80f39faa0c99...| 10043|             Germany|0.005974310465000498|    60|\n",
      "|[5eaa80f39faa0c99...|  9213|               China|0.015955714750895474|   147|\n",
      "|[5eaa80f39faa0c99...| 12470|               Chile|0.011868484362469928|   148|\n",
      "|[5eaa80f39faa0c99...| 12030|              Canada|0.025685785536159602|   309|\n",
      "|[5eaa80f39faa0c99...| 43771|           Australia|0.004340773571542803|   190|\n",
      "|[5eaa80f39faa0c99...|  5710|           Argentina| 0.10735551663747811|   613|\n",
      "+--------------------+------+--------------------+--------------------+------+\n",
      "\n"
     ]
    }
   ],
   "source": [
    "df.show()"
   ]
  },
  {
   "cell_type": "code",
   "execution_count": 23,
   "metadata": {},
   "outputs": [],
   "source": [
    "df.createOrReplaceTempView(\"h1n1\")"
   ]
  },
  {
   "cell_type": "code",
   "execution_count": 24,
   "metadata": {},
   "outputs": [],
   "source": [
    "test_h1n1 = spark.sql(\"SELECT _id, cases, country, deathrate, deaths FROM h1n1 ORDER BY deaths DESC\")"
   ]
  },
  {
   "cell_type": "code",
   "execution_count": 26,
   "metadata": {},
   "outputs": [],
   "source": [
    "test_h1n1.write.format(\"com.mongodb.spark.sql.DefaultSource\").option(\"uri\",\n",
    "\"mongodb://mongodb:27017/epidemics_test.test_h1n1\").save()"
   ]
  }
 ],
 "metadata": {
  "kernelspec": {
   "display_name": "Python 3",
   "language": "python",
   "name": "python3"
  },
  "language_info": {
   "codemirror_mode": {
    "name": "ipython",
    "version": 3
   },
   "file_extension": ".py",
   "mimetype": "text/x-python",
   "name": "python",
   "nbconvert_exporter": "python",
   "pygments_lexer": "ipython3",
   "version": "3.7.6"
  }
 },
 "nbformat": 4,
 "nbformat_minor": 4
}
